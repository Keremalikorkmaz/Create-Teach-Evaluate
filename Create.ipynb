{
  "nbformat": 4,
  "nbformat_minor": 0,
  "metadata": {
    "colab": {
      "name": "Untitled8.ipynb",
      "provenance": [],
      "authorship_tag": "ABX9TyODWM3N4H0WMqCcLrC5tFiU",
      "include_colab_link": true
    },
    "kernelspec": {
      "name": "python3",
      "display_name": "Python 3"
    },
    "language_info": {
      "name": "python"
    }
  },
  "cells": [
    {
      "cell_type": "markdown",
      "metadata": {
        "id": "view-in-github",
        "colab_type": "text"
      },
      "source": [
        "<a href=\"https://colab.research.google.com/github/Keremalikorkmaz/Create-Teach-Evaluate/blob/main/Create.ipynb\" target=\"_parent\"><img src=\"https://colab.research.google.com/assets/colab-badge.svg\" alt=\"Open In Colab\"/></a>"
      ]
    },
    {
      "cell_type": "code",
      "execution_count": 1,
      "metadata": {
        "id": "2fCXk8KBoj-c"
      },
      "outputs": [],
      "source": [
        "import pandas as pd\n",
        "import requests\n",
        "from bs4 import BeautifulSoup as bs\n",
        "import numpy as np\n",
        "from sklearn.preprocessing import LabelEncoder\n",
        "labelencoder = LabelEncoder()"
      ]
    },
    {
      "cell_type": "code",
      "source": [
        "#Create\n",
        "\n",
        "Sport=[\"Sport\",\"Football\", \"Basketball\", \"Volleyball\", \"Tennis\", \"Athletics\"]\n",
        "Tourism = [\"Tourism\", \"Tourist\", \"Touristic\", \"Travel\", \"Vacation\"]\n",
        "Science = [\"Science\", \"Mathematics\", \"Biology\", \"Scientist\", \"Chemistry\", \"Geology\"]\n",
        "\n",
        "categories = [Sport, Tourism, Science] \n",
        "\n",
        "\n",
        "\n",
        "df=pd.DataFrame()\n",
        "for j in range(len(categories)):\n",
        "    text = ''\n",
        "    for i in range(len(categories[j])):\n",
        "        r = requests.get(f\"https://sentence.yourdictionary.com/{categories[j][i]}\")\n",
        "        soup = bs(r.content)\n",
        "        paragraph =soup.find_all(\"span\", attrs={\"class\": \"sentence-item__text\"})\n",
        "        text = text + str(paragraph)\n",
        "    arr = text.split(\"</span>,\")\n",
        "    arr=[s.replace(' <span class=\"sentence-item__text\" data-v-833c1076=\"\">','') for s in arr]\n",
        "    arr=[s.replace('<mark>','') for s in arr]\n",
        "    arr=[s.replace('</mark>','') for s in arr]\n",
        "    arr=[s.replace('[<span class=\"sentence-item__text\" data-v-833c1076=\"\">','') for s in arr]\n",
        "    arr=[s.replace('</span>]','') for s in arr]\n",
        "    df2 = pd.DataFrame(arr,columns=[\"Sentences\"])\n",
        "    df2[\"Category\"]=categories[j][0]\n",
        "    df=pd.concat([df,df2])\n",
        "    \n",
        "df['CategoryID'] = labelencoder.fit_transform(df['Category'])    \n",
        "df.reset_index(drop=True, inplace=True) "
      ],
      "metadata": {
        "id": "VSOg76w_opyG"
      },
      "execution_count": 2,
      "outputs": []
    },
    {
      "cell_type": "code",
      "source": [
        "df.groupby('Category').count()"
      ],
      "metadata": {
        "colab": {
          "base_uri": "https://localhost:8080/",
          "height": 175
        },
        "id": "62e4BYKxpIun",
        "outputId": "59fb775f-edff-4398-f7da-6b8e9e33faac"
      },
      "execution_count": 3,
      "outputs": [
        {
          "output_type": "execute_result",
          "data": {
            "text/plain": [
              "          Sentences  CategoryID\n",
              "Category                       \n",
              "Science        2146        2146\n",
              "Sport          2109        2109\n",
              "Tourism        1416        1416"
            ],
            "text/html": [
              "\n",
              "  <div id=\"df-c8e3b8eb-d61f-40ca-a609-6b3158caad19\">\n",
              "    <div class=\"colab-df-container\">\n",
              "      <div>\n",
              "<style scoped>\n",
              "    .dataframe tbody tr th:only-of-type {\n",
              "        vertical-align: middle;\n",
              "    }\n",
              "\n",
              "    .dataframe tbody tr th {\n",
              "        vertical-align: top;\n",
              "    }\n",
              "\n",
              "    .dataframe thead th {\n",
              "        text-align: right;\n",
              "    }\n",
              "</style>\n",
              "<table border=\"1\" class=\"dataframe\">\n",
              "  <thead>\n",
              "    <tr style=\"text-align: right;\">\n",
              "      <th></th>\n",
              "      <th>Sentences</th>\n",
              "      <th>CategoryID</th>\n",
              "    </tr>\n",
              "    <tr>\n",
              "      <th>Category</th>\n",
              "      <th></th>\n",
              "      <th></th>\n",
              "    </tr>\n",
              "  </thead>\n",
              "  <tbody>\n",
              "    <tr>\n",
              "      <th>Science</th>\n",
              "      <td>2146</td>\n",
              "      <td>2146</td>\n",
              "    </tr>\n",
              "    <tr>\n",
              "      <th>Sport</th>\n",
              "      <td>2109</td>\n",
              "      <td>2109</td>\n",
              "    </tr>\n",
              "    <tr>\n",
              "      <th>Tourism</th>\n",
              "      <td>1416</td>\n",
              "      <td>1416</td>\n",
              "    </tr>\n",
              "  </tbody>\n",
              "</table>\n",
              "</div>\n",
              "      <button class=\"colab-df-convert\" onclick=\"convertToInteractive('df-c8e3b8eb-d61f-40ca-a609-6b3158caad19')\"\n",
              "              title=\"Convert this dataframe to an interactive table.\"\n",
              "              style=\"display:none;\">\n",
              "        \n",
              "  <svg xmlns=\"http://www.w3.org/2000/svg\" height=\"24px\"viewBox=\"0 0 24 24\"\n",
              "       width=\"24px\">\n",
              "    <path d=\"M0 0h24v24H0V0z\" fill=\"none\"/>\n",
              "    <path d=\"M18.56 5.44l.94 2.06.94-2.06 2.06-.94-2.06-.94-.94-2.06-.94 2.06-2.06.94zm-11 1L8.5 8.5l.94-2.06 2.06-.94-2.06-.94L8.5 2.5l-.94 2.06-2.06.94zm10 10l.94 2.06.94-2.06 2.06-.94-2.06-.94-.94-2.06-.94 2.06-2.06.94z\"/><path d=\"M17.41 7.96l-1.37-1.37c-.4-.4-.92-.59-1.43-.59-.52 0-1.04.2-1.43.59L10.3 9.45l-7.72 7.72c-.78.78-.78 2.05 0 2.83L4 21.41c.39.39.9.59 1.41.59.51 0 1.02-.2 1.41-.59l7.78-7.78 2.81-2.81c.8-.78.8-2.07 0-2.86zM5.41 20L4 18.59l7.72-7.72 1.47 1.35L5.41 20z\"/>\n",
              "  </svg>\n",
              "      </button>\n",
              "      \n",
              "  <style>\n",
              "    .colab-df-container {\n",
              "      display:flex;\n",
              "      flex-wrap:wrap;\n",
              "      gap: 12px;\n",
              "    }\n",
              "\n",
              "    .colab-df-convert {\n",
              "      background-color: #E8F0FE;\n",
              "      border: none;\n",
              "      border-radius: 50%;\n",
              "      cursor: pointer;\n",
              "      display: none;\n",
              "      fill: #1967D2;\n",
              "      height: 32px;\n",
              "      padding: 0 0 0 0;\n",
              "      width: 32px;\n",
              "    }\n",
              "\n",
              "    .colab-df-convert:hover {\n",
              "      background-color: #E2EBFA;\n",
              "      box-shadow: 0px 1px 2px rgba(60, 64, 67, 0.3), 0px 1px 3px 1px rgba(60, 64, 67, 0.15);\n",
              "      fill: #174EA6;\n",
              "    }\n",
              "\n",
              "    [theme=dark] .colab-df-convert {\n",
              "      background-color: #3B4455;\n",
              "      fill: #D2E3FC;\n",
              "    }\n",
              "\n",
              "    [theme=dark] .colab-df-convert:hover {\n",
              "      background-color: #434B5C;\n",
              "      box-shadow: 0px 1px 3px 1px rgba(0, 0, 0, 0.15);\n",
              "      filter: drop-shadow(0px 1px 2px rgba(0, 0, 0, 0.3));\n",
              "      fill: #FFFFFF;\n",
              "    }\n",
              "  </style>\n",
              "\n",
              "      <script>\n",
              "        const buttonEl =\n",
              "          document.querySelector('#df-c8e3b8eb-d61f-40ca-a609-6b3158caad19 button.colab-df-convert');\n",
              "        buttonEl.style.display =\n",
              "          google.colab.kernel.accessAllowed ? 'block' : 'none';\n",
              "\n",
              "        async function convertToInteractive(key) {\n",
              "          const element = document.querySelector('#df-c8e3b8eb-d61f-40ca-a609-6b3158caad19');\n",
              "          const dataTable =\n",
              "            await google.colab.kernel.invokeFunction('convertToInteractive',\n",
              "                                                     [key], {});\n",
              "          if (!dataTable) return;\n",
              "\n",
              "          const docLinkHtml = 'Like what you see? Visit the ' +\n",
              "            '<a target=\"_blank\" href=https://colab.research.google.com/notebooks/data_table.ipynb>data table notebook</a>'\n",
              "            + ' to learn more about interactive tables.';\n",
              "          element.innerHTML = '';\n",
              "          dataTable['output_type'] = 'display_data';\n",
              "          await google.colab.output.renderOutput(dataTable, element);\n",
              "          const docLink = document.createElement('div');\n",
              "          docLink.innerHTML = docLinkHtml;\n",
              "          element.appendChild(docLink);\n",
              "        }\n",
              "      </script>\n",
              "    </div>\n",
              "  </div>\n",
              "  "
            ]
          },
          "metadata": {},
          "execution_count": 3
        }
      ]
    },
    {
      "cell_type": "code",
      "source": [
        "df.to_excel(\"Category_Sentences.xlsx\",index=False) "
      ],
      "metadata": {
        "id": "WxLsOclQpNiR"
      },
      "execution_count": 4,
      "outputs": []
    }
  ]
}